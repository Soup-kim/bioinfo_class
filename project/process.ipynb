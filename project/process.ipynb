{
 "cells": [
  {
   "cell_type": "markdown",
   "metadata": {},
   "source": [
    "## Figure S2A 재현하기\n",
    "*모든 코드는 Google Colab에서 실행한 코드를 그대로 붙여넣었습니다.\n",
    "\n",
    "\n",
    "# 1. unique sequences 중복 및 error 확인하기\n",
    "\n",
    "Mirlet7d 영역을 선택\n",
    "\n"
   ]
  },
  {
   "cell_type": "code",
   "execution_count": null,
   "metadata": {},
   "outputs": [],
   "source": [
    "!grep -i Mirlet7d ../1/binfo1-datapack1/gencode.gtf"
   ]
  },
  {
   "cell_type": "markdown",
   "metadata": {},
   "source": [
    "좌표 솎아내기. 이 파일을 바로 첫번째로 Genome Browser에 업로드해서 확인해보았습니다."
   ]
  },
  {
   "cell_type": "code",
   "execution_count": null,
   "metadata": {},
   "outputs": [],
   "source": [
    "!samtools view -b -o CLIP-let7d.bam ../1/binfo1-datapack1/CLIP-35L33G.bam chr13:48689488-48689590\n",
    "!samtools view CLIP-let7d.bam"
   ]
  },
  {
   "cell_type": "markdown",
   "metadata": {},
   "source": [
    "여기서부터는 시행착오를 겪은 기록이 섞여있습니다.\n",
    "\n",
    "- pileup 파일로 시도해보기"
   ]
  },
  {
   "cell_type": "code",
   "execution_count": null,
   "metadata": {},
   "outputs": [],
   "source": [
    "import pandas as pd\n",
    "\n",
    "# 데이터 읽어오기\n",
    "data = pd.read_csv('CLIP-let7d-gene.pileup', sep='\\t', names=['chrom', 'pos', '_ref', 'count', 'basereads', 'quals'])\n",
    "\n",
    "# basereads 열에서 ^와 바로 뒤에 오는 문자 사이의 문자열 추출하기\n",
    "data['errors'] = data['basereads'].str.extract(r'\\^(.)', expand=False)\n",
    "\n",
    "# errors 열에서 unique한 sequence와 그 개수 세기\n",
    "error_counts = data.groupby('errors').size().reset_index(name='count')\n",
    "\n",
    "# count 열이 7 이상인 행만 선택\n",
    "frequent_errors = error_counts[error_counts['count'] >= 7]\n",
    "\n",
    "# 결과 출력\n",
    "print(\"7번 이상 나타나는 unique sequence들의 개수:\", len(frequent_errors))\n",
    "print(\"\\n7번 이상 나타나는 unique sequence와 그 개수:\")\n",
    "print(frequent_errors)"
   ]
  },
  {
   "cell_type": "markdown",
   "metadata": {},
   "source": [
    "\n",
    "- 중복 서열과 중복 수 출력해보기"
   ]
  },
  {
   "cell_type": "code",
   "execution_count": null,
   "metadata": {},
   "outputs": [],
   "source": [
    "from collections import defaultdict\n",
    "\n",
    "# SAM 파일 읽기\n",
    "with open('CLIP-let7d-region-with-header.sam', 'r') as f:\n",
    "    lines = f.readlines()\n",
    "\n",
    "# 각 read의 서열 추출 및 중복 개수 세기\n",
    "seq_counts = defaultdict(int)\n",
    "for line in lines:\n",
    "    if not line.startswith('@'):  # 헤더 라인 제외\n",
    "        fields = line.strip().split('\\t')\n",
    "        seq = fields[9]  # 서열 정보가 있는 필드\n",
    "        seq_counts[seq] += 1\n",
    "\n",
    "# 5번 이상 중복된 서열만 선택\n",
    "frequent_seqs = {seq: count for seq, count in seq_counts.items() if count >= 5}\n",
    "\n",
    "# 결과 출력\n",
    "for seq, count in frequent_seqs.items():\n",
    "    print(f\"{count}\\t{seq}\")"
   ]
  },
  {
   "cell_type": "markdown",
   "metadata": {},
   "source": [
    "- BED 파일로 저장하기 "
   ]
  },
  {
   "cell_type": "code",
   "execution_count": null,
   "metadata": {},
   "outputs": [],
   "source": [
    "from collections import defaultdict\n",
    "\n",
    "# SAM 파일 읽기\n",
    "with open('CLIP-let7d-region.sam', 'r') as f:\n",
    "    lines = f.readlines()\n",
    "\n",
    "# 각 read의 위치, 서열, error 정보 추출 및 중복 개수 세기\n",
    "seq_counts = defaultdict(lambda: defaultdict(int))\n",
    "for line in lines:\n",
    "    if not line.startswith('@'):  # 헤더 라인 제외\n",
    "        fields = line.strip().split('\\t')\n",
    "        pos = int(fields[3])  # 위치 정보\n",
    "        seq = fields[9]  # 서열 정보\n",
    "        error = fields[5]  # error 정보 (CIGAR string)\n",
    "        seq_counts[seq][(pos, error)] += 1\n",
    "\n",
    "# 7번 이상 중복된 서열만 선택\n",
    "frequent_seqs = {seq: info for seq, info in seq_counts.items() if sum(info.values()) >= 7}\n",
    "\n",
    "# BED 형식으로 출력\n",
    "for seq, info in frequent_seqs.items():\n",
    "    for (pos, error), count in info.items():\n",
    "        start = pos - 1  # BED 형식은 0-based 좌표 사용\n",
    "        end = pos + len(seq) - 1\n",
    "        print(f\"chr13\\t{start}\\t{end}\\t{seq}\\t{count}\\t-\\t{start}\\t{end}\\t0,0,255\\t1\\t{len(seq)}\\t0\\t{error}\")\n",
    "\n",
    "# BED 파일로 저장\n",
    "with open('output.bed', 'w') as bed_file:\n",
    "    for seq, info in frequent_seqs.items():\n",
    "        for (pos, error), count in info.items():\n",
    "            start = pos - 1  # BED 형식은 0-based 좌표 사용\n",
    "            end = pos + len(seq) - 1\n",
    "            bed_file.write(f\"chr13\\t{start}\\t{end}\\t{seq}\\t{count}\\t+\\t{start}\\t{end}\\t0,0,255\\t1\\t{len(seq)}\\t0\\t{error}\\n\")"
   ]
  },
  {
   "cell_type": "markdown",
   "metadata": {},
   "source": [
    "- BAM 파일 수정해서 저장하기"
   ]
  },
  {
   "cell_type": "code",
   "execution_count": null,
   "metadata": {},
   "outputs": [],
   "source": [
    "# Unique sequence와 중복 횟수 추출\n",
    "!samtools view CLIP-let7d.bam | cut -f 10 | sort | uniq -c > unique_sequences.txt\n",
    "\n",
    "# 중복 횟수를 read name에 추가하여 새로운 BAM 파일 생성\n",
    "!samtools view -H CLIP-let7d.bam > header.sam\n",
    "!while read count seq; do \\\n",
    "    samtools view CLIP-let7d.bam | \\\n",
    "    awk -v count=\"$count\" -v seq=\"$seq\" 'BEGIN {{OFS=\"\\t\"}} $10 == seq {{$1 = count\"_\"$1; print}}' >> reads.sam; \\\n",
    "done < unique_sequences.txt\n",
    "!cat header.sam reads.sam | samtools view -b > output1.bam\n",
    "\n",
    "# 중간 파일 제거\n",
    "!rm header.sam reads.sam\n",
    "\n",
    "# BAM 파일 인덱싱\n",
    "!samtools index output1.bam"
   ]
  },
  {
   "cell_type": "markdown",
   "metadata": {},
   "source": [
    "- pysam 사용해보기"
   ]
  },
  {
   "cell_type": "code",
   "execution_count": null,
   "metadata": {},
   "outputs": [],
   "source": [
    "import pysam\n",
    "\n",
    "def add_duplicate_counts_to_bam(input_bam, output_bam):\n",
    "    # Input BAM 파일 읽기\n",
    "    bam_in = pysam.AlignmentFile(input_bam, \"rb\")\n",
    "\n",
    "    # Output BAM 파일 쓰기 모드로 열기\n",
    "    bam_out = pysam.AlignmentFile(output_bam, \"wb\", template=bam_in)\n",
    "\n",
    "    # Unique sequence와 중복 횟수 저장할 딕셔너리\n",
    "    unique_sequences = {}\n",
    "\n",
    "    # Input BAM 파일에서 alignment 읽기\n",
    "    for read in bam_in:\n",
    "        seq = read.query_sequence\n",
    "        if seq not in unique_sequences:\n",
    "            unique_sequences[seq] = 1\n",
    "        else:\n",
    "            unique_sequences[seq] += 1\n",
    "\n",
    "    # 중복 횟수를 read name에 추가하여 output BAM 파일에 쓰기\n",
    "    for read in bam_in:\n",
    "        seq = read.query_sequence\n",
    "        count = unique_sequences[seq]\n",
    "        read.query_name = f\"{count}_{read.query_name}\"\n",
    "        bam_out.write(read)\n",
    "\n",
    "    bam_in.close()\n",
    "    bam_out.close()\n",
    "\n",
    "# 함수 호출\n",
    "add_duplicate_counts_to_bam(\"CLIP-let7d.bam\", \"pysam.bam\")"
   ]
  },
  {
   "cell_type": "markdown",
   "metadata": {},
   "source": [
    "# 2. Shannon's Entropy 구하기"
   ]
  },
  {
   "cell_type": "code",
   "execution_count": null,
   "metadata": {},
   "outputs": [],
   "source": [
    "#대소문자 변환\n",
    "def filter_bases(matches):\n",
    "    return ''.join(base for base in matches.upper() if base in 'ACGT')\n",
    "\n",
    "pileup['matches'] = pileup['matches'].apply(filter_bases)\n",
    "\n",
    "def count_bases(matches):\n",
    "    base_counts = {'A': 0, 'C': 0, 'G': 0, 'T': 0}\n",
    "\n",
    "    # matches가 비어있는 경우 처리\n",
    "    if matches.empty:\n",
    "        return pd.Series(base_counts)\n",
    "\n",
    "    for match in matches:\n",
    "        for base in match:\n",
    "            base_counts[base] += 1\n",
    "    return pd.Series(base_counts)\n",
    "\n",
    "#base 수 세기\n",
    "base_counts = pileup.groupby('pos')['matches'].apply(count_bases).unstack().fillna(0)\n",
    "base_counts.head(10)\n",
    "\n",
    "def filter_bases(matches):\n",
    "    return ''.join(base for base in matches if base in 'acgt')\n",
    "\n",
    "pileup['matches'] = pileup['matches'].apply(filter_bases)"
   ]
  },
  {
   "cell_type": "code",
   "execution_count": null,
   "metadata": {},
   "outputs": [],
   "source": [
    "import numpy as np\n",
    "\n",
    "# Shannon entropy 계산 함수\n",
    "def shannon_entropy(base_counts):\n",
    "    total_counts = base_counts.sum()\n",
    "    probs = base_counts / total_counts\n",
    "    return -np.sum(probs * np.log2(probs))\n",
    "\n",
    "# 각 position별로 Shannon entropy 계산\n",
    "entropies = base_counts.apply(shannon_entropy, axis=1)"
   ]
  },
  {
   "cell_type": "code",
   "execution_count": null,
   "metadata": {},
   "outputs": [],
   "source": [
    "import pandas as pd\n",
    "\n",
    "entropies.to_csv('entropies.csv', header=True, index=True)\n",
    "entropiess = pd.read_csv('entropies.csv', sep=',', names = ['pos', 'ent'])\n",
    "entropiess.head(10)"
   ]
  },
  {
   "cell_type": "code",
   "execution_count": null,
   "metadata": {},
   "outputs": [],
   "source": [
    "bedgraph = pd.DataFrame({\n",
    "    'chrom': 'chr13',\n",
    "    'start': pileup['pos'] - 1,\n",
    "    'end': pileup['pos'],\n",
    "    'entropy': entropiess['ent']\n",
    "})\n",
    "\n",
    "bedgraph = bedgraph.iloc[:-1]\n",
    "\n",
    "bedgraph['start'] = bedgraph['start'].astype(int)\n",
    "bedgraph['end'] = bedgraph['end'].astype(int)\n",
    "\n",
    "with open('7d_entropy.bedgraph', 'w') as f:\n",
    "    f.write('track type=bedGraph graphType=bar\\n')\n",
    "    bedgraph.to_csv(f, sep='\\t', index=False, header=False, mode='a')"
   ]
  },
  {
   "cell_type": "markdown",
   "metadata": {},
   "source": [
    "- matplotlib 으로 그려보기"
   ]
  },
  {
   "cell_type": "code",
   "execution_count": null,
   "metadata": {},
   "outputs": [],
   "source": [
    "import matplotlib.pyplot as plt\n",
    "positions = bedgraph['start']  # 각 position을 리스트로\n",
    "entropies = bedgraph['entropy']\n",
    "plt.figure(figsize=(10, 2))  # 그래프 크기 설정\n",
    "plt.bar(positions, entropies, width=1)  # 막대 그래프 그리기\n",
    "plt.xlim(min(positions), max(positions))  # x축 범위 설정\n",
    "plt.ylim(0, max(entropies) * 1.1)  # y축 범위 설정\n",
    "plt.xlabel('Position')\n",
    "plt.ylabel(\"Shannon's entropy\")\n",
    "plt.title(\"Cross-linked peptide residue induced error rate\")\n",
    "plt.tight_layout()\n",
    "plt.show()  # 그래프 표시"
   ]
  }
 ],
 "metadata": {
  "kernelspec": {
   "display_name": "Python 3",
   "language": "python",
   "name": "python3"
  },
  "language_info": {
   "codemirror_mode": {
    "name": "ipython",
    "version": 3
   },
   "file_extension": ".py",
   "mimetype": "text/x-python",
   "name": "python",
   "nbconvert_exporter": "python",
   "pygments_lexer": "ipython3",
   "version": "3.11.7"
  }
 },
 "nbformat": 4,
 "nbformat_minor": 2
}
